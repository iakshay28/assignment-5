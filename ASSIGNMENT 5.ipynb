{
 "cells": [
  {
   "cell_type": "markdown",
   "id": "d2c7c973",
   "metadata": {},
   "source": [
    "# Challenge 1: Square Numbers and Return Their Sum"
   ]
  },
  {
   "cell_type": "code",
   "execution_count": 10,
   "id": "2e6d4df4",
   "metadata": {},
   "outputs": [
    {
     "name": "stdout",
     "output_type": "stream",
     "text": [
      "1\n",
      "9\n",
      "25\n",
      "35\n"
     ]
    }
   ],
   "source": [
    "class point:\n",
    "    def __init__(self):\n",
    "        self.sum = 0\n",
    "\n",
    "    def square(self, number):\n",
    "        result = number ** 2\n",
    "        self.sum += result\n",
    "        return result\n",
    "\n",
    "    def get_sum(self):\n",
    "        return self.sum\n",
    "\n",
    "sq = point()\n",
    "print(sq.square(1)) \n",
    "print(sq.square(3))\n",
    "print(sq.square(5))\n",
    "print(sq.get_sum()) "
   ]
  },
  {
   "cell_type": "markdown",
   "id": "e2187f1f",
   "metadata": {},
   "source": [
    "# Challenge 2: Implement a Calculator Class"
   ]
  },
  {
   "cell_type": "code",
   "execution_count": 11,
   "id": "827d604c",
   "metadata": {},
   "outputs": [
    {
     "name": "stdout",
     "output_type": "stream",
     "text": [
      "104\n",
      "84\n",
      "940\n",
      "9.4\n"
     ]
    }
   ],
   "source": [
    "class Calculator:\n",
    "    def __init__(self):\n",
    "        pass\n",
    "\n",
    "    def add(self,a,b):\n",
    "        return a+b\n",
    "\n",
    "    def subtract(self,a,b):\n",
    "        return b-a\n",
    "\n",
    "    def multiply(self,a,b):\n",
    "        return a*b\n",
    "\n",
    "    def divide(self,a,b):\n",
    "        if b != 0:\n",
    "            return b/a\n",
    "        else:\n",
    "            raise ValueError(\"Cannot divide by zero\")\n",
    "\n",
    "calc = Calculator()\n",
    "print(calc.add(10, 94)) \n",
    "print(calc.subtract(10,94)) \n",
    "print(calc.multiply(10,94)) \n",
    "print(calc.divide(10,94)) "
   ]
  },
  {
   "cell_type": "markdown",
   "id": "870fefd4",
   "metadata": {},
   "source": [
    "# Challenge 3: Implement the Complete Student Class"
   ]
  },
  {
   "cell_type": "code",
   "execution_count": 12,
   "id": "270bd6e3",
   "metadata": {},
   "outputs": [
    {
     "name": "stdout",
     "output_type": "stream",
     "text": [
      "AKSHAY\n",
      "101\n"
     ]
    }
   ],
   "source": [
    "class Student:\n",
    "    def __init__(self, name,rollno):\n",
    "        self.__name = name\n",
    "        self.__rollno= rollno\n",
    "\n",
    "    def set_name(self, name):\n",
    "        self.__name = name\n",
    "\n",
    "    def get_name(self):\n",
    "        return self.__name\n",
    "\n",
    "    def set_age(self, age):\n",
    "        self.__rollno = rollno\n",
    "\n",
    "    def get_age(self):\n",
    "        return self.__rollno\n",
    "\n",
    "\n",
    "student = Student(\"AKSHAY\", 101)\n",
    "print(student.get_name())\n",
    "print(student.get_age()) \n"
   ]
  },
  {
   "cell_type": "markdown",
   "id": "f0adde86",
   "metadata": {},
   "source": [
    "# Challenge 4: Implement a Banking Account"
   ]
  },
  {
   "cell_type": "code",
   "execution_count": 13,
   "id": "d96cd97b",
   "metadata": {},
   "outputs": [
    {
     "name": "stdout",
     "output_type": "stream",
     "text": [
      "Name: ashish\n",
      "Balance: 5000\n",
      "Deposited: 1000\n",
      "interest: 50.0\n",
      "New balance: 5050.0\n"
     ]
    }
   ],
   "source": [
    "class Account:\n",
    "    def __init__(self, name, balance):\n",
    "        self.__name = name\n",
    "        self.__balance = balance\n",
    "\n",
    "    def get_name(self):\n",
    "        return self.__name\n",
    "\n",
    "    def get_balance(self):\n",
    "        return self.__balance\n",
    "\n",
    "    def deposit(self, amount):\n",
    "        self.__balance += amount*5/100\n",
    "        print(\"Deposited:\", amount)\n",
    "        print(\"interest:\",amount*5/100)\n",
    "        print(\"New balance:\", self.__balance)\n",
    "\n",
    "\n",
    "account = Account(\"ashish\",5000)\n",
    "print(\"Name:\", account.get_name())\n",
    "print(\"Balance:\", account.get_balance())\n",
    "\n",
    "account.deposit(1000)"
   ]
  },
  {
   "cell_type": "markdown",
   "id": "62841d43",
   "metadata": {},
   "source": [
    "# Challenge 5: Handling a Bank Account"
   ]
  },
  {
   "cell_type": "code",
   "execution_count": 14,
   "id": "93a0e56d",
   "metadata": {},
   "outputs": [
    {
     "name": "stdout",
     "output_type": "stream",
     "text": [
      "Deposited: 500\n",
      "New balance: 2500\n",
      "Withdrew: 1000\n",
      "New balance: 1500\n",
      "interest: 75.0\n"
     ]
    }
   ],
   "source": [
    "class Account:\n",
    "    def __init__(self, title=None, balance=0):\n",
    "        self.title = title\n",
    "        self.balance = balance\n",
    "    \n",
    "    def withdrawal(self, amount):\n",
    "        if self.balance >= amount:\n",
    "            self.balance -= amount\n",
    "            print(\"Withdrew:\", amount)\n",
    "            print(\"New balance:\", self.balance)\n",
    "        else:\n",
    "            print(\"Insufficient balance.\")\n",
    "        pass\n",
    "\n",
    "    def deposit(self, amount):\n",
    "        self.balance += amount\n",
    "        print(\"Deposited:\", amount)\n",
    "        print(\"New balance:\", self.balance)\n",
    "        pass\n",
    "\n",
    "    def getbalance(self):\n",
    "        return self.getbalance\n",
    "        pass\n",
    "\n",
    "class SavingsAccount(Account):\n",
    "    def __init__(self, title=None, balance=0, interestRate=0):\n",
    "            super().__init__(title, balance)\n",
    "            self.interestRate = interestRate\n",
    "    \n",
    "    def interestAmount(self):\n",
    "        interest = self.balance * self.interestRate/100\n",
    "        print(\"interest:\",interest)\n",
    "        pass\n",
    "\n",
    "#code to test - do not edit this\n",
    "\n",
    "demo1 = SavingsAccount(\"Ashish\", 2000, 5)   # initializing a SavingsAccount object\n",
    "demo1.deposit(500)\n",
    "demo1.withdrawal(1000)\n",
    "demo1.interestAmount()\n"
   ]
  },
  {
   "cell_type": "code",
   "execution_count": null,
   "id": "6171c148",
   "metadata": {},
   "outputs": [],
   "source": []
  }
 ],
 "metadata": {
  "kernelspec": {
   "display_name": "Python 3 (ipykernel)",
   "language": "python",
   "name": "python3"
  },
  "language_info": {
   "codemirror_mode": {
    "name": "ipython",
    "version": 3
   },
   "file_extension": ".py",
   "mimetype": "text/x-python",
   "name": "python",
   "nbconvert_exporter": "python",
   "pygments_lexer": "ipython3",
   "version": "3.9.12"
  }
 },
 "nbformat": 4,
 "nbformat_minor": 5
}
